{
 "cells": [
  {
   "cell_type": "code",
   "execution_count": 1,
   "metadata": {},
   "outputs": [],
   "source": [
    "import scipy.io\n",
    "import matplotlib.pyplot as plt\n",
    "import numpy as np\n",
    "import math\n",
    "from matplotlib.ticker import MaxNLocator\n",
    "from sklearn.ensemble import BaggingRegressor\n",
    "from sklearn.model_selection import train_test_split, cross_val_score\n",
    "from sklearn.neighbors import KNeighborsRegressor\n",
    "from sklearn.linear_model import LinearRegression, RidgeCV\n",
    "from sklearn.preprocessing import StandardScaler\n",
    "from sklearn.metrics import mean_squared_error\n",
    "from sklearn.neural_network import MLPRegressor\n",
    "\n",
    "#Initialization\n",
    "#Load Data\n",
    "data = scipy.io.loadmat('powerTrainData.mat')\n",
    "\n",
    "#Modify I/O\n",
    "xtr = np.transpose(data.get('powerTrainInput'))\n",
    "ytr = np.ravel(data.get('powerTrainOutput'))\n",
    "xte = np.transpose(data.get('powerTestInput'))\n",
    "\n",
    "#Create array for models\n",
    "compModel = []\n",
    "modelScore = []\n"
   ]
  },
  {
   "cell_type": "code",
   "execution_count": 2,
   "metadata": {},
   "outputs": [],
   "source": [
    "# Standardization\n",
    "standardScaler = StandardScaler()\n",
    "xtr = standardScaler.fit_transform(xtr)\n",
    "xte = standardScaler.fit_transform(xte)\n"
   ]
  },
  {
   "cell_type": "code",
   "execution_count": 3,
   "metadata": {},
   "outputs": [],
   "source": [
    "#Regression\n",
    "reg = LinearRegression()\n",
    "compModel.append(cross_val_score(reg,xtr,ytr, cv=5, scoring='neg_mean_squared_error'))\n",
    "modelScore.append((cross_val_score(reg,xtr,ytr, cv=5, scoring='r2')).mean())\n",
    "reg.fit(xtr, ytr);"
   ]
  },
  {
   "cell_type": "code",
   "execution_count": 4,
   "metadata": {},
   "outputs": [
    {
     "name": "stdout",
     "output_type": "stream",
     "text": [
      "Best alpha on index: 0.375\n"
     ]
    }
   ],
   "source": [
    "#Ridge Cross-Validation Regression\n",
    "alphasLs = np.linspace(0.125,50,400)\n",
    "\n",
    "reg = RidgeCV(alphas=alphasLs, cv=5)\n",
    "compModel.append(cross_val_score(reg,xtr,ytr, cv=5, scoring='neg_mean_squared_error'))\n",
    "modelScore.append((cross_val_score(reg,xtr,ytr, cv=5, scoring='r2')).mean())\n",
    "reg.fit(xtr, ytr)\n",
    "\n",
    "print(\"Best alpha on index: %.3f\" % reg.alpha_)\n",
    "ypred = reg.predict(xte)\n",
    "with open('linear-model-result.csv', 'w') as f:\n",
    "    for i in ypred:\n",
    "        f.write(\"%.2f\\n\" % i)\n"
   ]
  },
  {
   "cell_type": "code",
   "execution_count": 5,
   "metadata": {},
   "outputs": [
    {
     "data": {
      "image/png": "[encoded data removed]",
      "text/plain": [
       "<Figure size 432x288 with 1 Axes>"
      ]
     },
     "metadata": {
      "needs_background": "light"
     },
     "output_type": "display_data"
    }
   ],
   "source": [
    "#KNN Regression\n",
    "k_ = range(1,20)\n",
    "results = []\n",
    "\n",
    "#Labels\n",
    "plt.xlabel('K-Value')\n",
    "plt.ylabel('NMSE')\n",
    "\n",
    "#Test various Ks\n",
    "for n in k_ : \n",
    "    reg = KNeighborsRegressor(n)\n",
    "    score = cross_val_score(reg,xtr,ytr, cv=5, scoring='neg_mean_squared_error')\n",
    "    results.append(abs(score.mean()))\n",
    "\n",
    "#Plot the results of the different Ks\n",
    "plt.gca().xaxis.set_major_locator(MaxNLocator(integer=True))\n",
    "plt.plot(k_,results, color=\"green\")\n",
    "\n",
    "#Choose the best K \n",
    "k_opt = 5\n",
    "\n",
    "#Append data to the array for comparison\n",
    "#Train with best K\n",
    "reg = KNeighborsRegressor(n_neighbors=k_opt)\n",
    "compModel.append(cross_val_score(reg,xtr,ytr, cv=5, scoring='neg_mean_squared_error'))\n",
    "modelScore.append((cross_val_score(reg,xtr,ytr, cv=5, scoring='r2')).mean())\n",
    "reg.fit(xtr, ytr);\n",
    "ypred = reg.predict(xte)\n",
    "with open('knn-model-result.csv', 'w') as f:\n",
    "    for i in ypred:\n",
    "        f.write(\"%.2f\\n\" % i)"
   ]
  },
  {
   "cell_type": "code",
   "execution_count": 6,
   "metadata": {},
   "outputs": [
    {
     "name": "stdout",
     "output_type": "stream",
     "text": [
      "2 vs 3 was False\n",
      "2 vs 4 was False\n",
      "2 vs 5 was False\n",
      "2 vs 6 was False\n",
      "2 vs 7 was False\n",
      "2 vs 8 was False\n",
      "2 vs 9 was False\n",
      "2 vs 10 was True\n",
      "2 vs 11 was True\n",
      "2 vs 12 was True\n",
      "3 vs 4 was True\n",
      "3 vs 5 was True\n",
      "3 vs 6 was True\n",
      "3 vs 7 was True\n",
      "3 vs 8 was True\n",
      "3 vs 9 was True\n",
      "3 vs 10 was True\n",
      "3 vs 11 was True\n",
      "3 vs 12 was True\n",
      "4 vs 5 was False\n",
      "4 vs 6 was False\n",
      "4 vs 7 was False\n",
      "4 vs 8 was False\n",
      "4 vs 9 was False\n",
      "4 vs 10 was True\n",
      "4 vs 11 was True\n",
      "4 vs 12 was False\n",
      "5 vs 6 was False\n",
      "5 vs 7 was False\n",
      "5 vs 8 was False\n",
      "5 vs 9 was False\n",
      "5 vs 10 was True\n",
      "5 vs 11 was True\n",
      "5 vs 12 was False\n",
      "6 vs 7 was False\n",
      "6 vs 8 was False\n",
      "6 vs 9 was False\n",
      "6 vs 10 was True\n",
      "6 vs 11 was True\n",
      "6 vs 12 was False\n",
      "7 vs 8 was False\n",
      "7 vs 9 was False\n",
      "7 vs 10 was False\n",
      "7 vs 11 was False\n",
      "7 vs 12 was False\n",
      "8 vs 9 was False\n",
      "8 vs 10 was False\n",
      "8 vs 11 was False\n",
      "8 vs 12 was False\n",
      "9 vs 10 was False\n",
      "9 vs 11 was False\n",
      "9 vs 12 was False\n",
      "10 vs 11 was False\n",
      "10 vs 12 was False\n",
      "11 vs 12 was False\n",
      "Best Number Of Nodes: 10\n"
     ]
    },
    {
     "data": {
      "image/png": "[encoded data removed]",
      "text/plain": [
       "<Figure size 432x288 with 1 Axes>"
      ]
     },
     "metadata": {
      "needs_background": "light"
     },
     "output_type": "display_data"
    }
   ],
   "source": [
    "#MLP IN PROGRESS\n",
    "no_nodes = range(2,13)\n",
    "results = []\n",
    "results.append([])\n",
    "for n in no_nodes :\n",
    "    reg = MLPRegressor(hidden_layer_sizes=(n,),solver='lbfgs', random_state=0)\n",
    "    score = cross_val_score(reg,xtr,ytr, cv=5, scoring='neg_mean_squared_error')\n",
    "    results.append(score)\n",
    "\n",
    "# Signifance test 95% confidence\n",
    "for i in range(1,12):\n",
    "    for j in range(i+1,12):\n",
    "        devAB = (np.std(results[i])**2 + np.std(results[j])**2)**(1/2)\n",
    "        print(\"%0.f vs %0.f was %s\" %(i+1, j+1, abs(results[i].mean()-results[j].mean()) > 1.96* devAB / (5**(1/2))))\n",
    "\n",
    "#Choose the best K according to graph\n",
    "nodes_opt = 10\n",
    "print(\"Best Number Of Nodes: %.0f\" % nodes_opt)\n",
    "\n",
    "#Plot the graph of the different K's\n",
    "plt.ylabel('NMSE')\n",
    "plt.xlabel('Number of Nodes')\n",
    "plt.title('Multilayer Perceptron')\n",
    "plt.boxplot(results)\n",
    "\n",
    "reg = MLPRegressor(hidden_layer_sizes=(nodes_opt,), solver='lbfgs',random_state = 0)\n",
    "compModel.append(cross_val_score(reg,xtr,ytr, cv=5, scoring='neg_mean_squared_error'))\n",
    "modelScore.append((cross_val_score(reg,xtr,ytr, cv=5, scoring='r2')).mean())\n",
    "reg.fit(xtr, ytr);\n",
    "ypred = reg.predict(xte)\n",
    "with open('mlp-result.csv', 'w') as f:\n",
    "    for i in ypred:\n",
    "        f.write(\"%.2f\\n\" % i)"
   ]
  },
  {
   "cell_type": "code",
   "execution_count": 15,
   "metadata": {},
   "outputs": [],
   "source": [
    "#MLP COMMITTEEE using weighted averaging\n",
    "reg = BaggingRegressor(base_estimator=MLPRegressor(hidden_layer_sizes=(nodes_opt,),solver='lbfgs'), max_samples=675, random_state = 1)\n",
    "compModel.append(cross_val_score(reg,xtr,ytr, cv=5, scoring='neg_mean_squared_error'))\n",
    "modelScore.append((cross_val_score(reg,xtr,ytr, cv=5, scoring='r2')).mean())\n",
    "reg.fit(xtr, ytr);\n"
   ]
  },
  {
   "cell_type": "code",
   "execution_count": 12,
   "metadata": {},
   "outputs": [],
   "source": [
    "#Write to File\n",
    "ypred = reg.predict(xte)\n",
    "with open('mlp-committee-result.csv', 'w') as f:\n",
    "    for i in ypred:\n",
    "        f.write(\"%.2f\\n\" % i)"
   ]
  },
  {
   "cell_type": "code",
   "execution_count": 13,
   "metadata": {},
   "outputs": [
    {
     "name": "stdout",
     "output_type": "stream",
     "text": [
      "[0.9770734027415855, 0.9770573920222942, 0.9594352114279527, 0.9872932331558498, 0.9869945471759584, 0.9869945471759584]\n",
      "1 vs 2 was False\n",
      "1 vs 3 was True\n",
      "1 vs 4 was True\n",
      "1 vs 5 was True\n",
      "2 vs 3 was True\n",
      "2 vs 4 was True\n",
      "2 vs 5 was True\n",
      "3 vs 4 was True\n",
      "3 vs 5 was True\n",
      "4 vs 5 was False\n"
     ]
    },
    {
     "data": {
      "image/png": "[encoded data removed]",
      "text/plain": [
       "<Figure size 432x288 with 1 Axes>"
      ]
     },
     "metadata": {
      "needs_background": "light"
     },
     "output_type": "display_data"
    }
   ],
   "source": [
    "#Plotting and Scoring\n",
    "\n",
    "#Labels\n",
    "plt.xlabel('Models')\n",
    "plt.ylabel('NMSE')\n",
    "\n",
    "#Plots\n",
    "plt.boxplot(compModel);\n",
    "print(modelScore)\n",
    "\n",
    "\n",
    "#2.5758 for 99% confidence\n",
    "# Signifance test 95% confidence\n",
    "for i in range(0,4):\n",
    "    for j in range(i+1,5):\n",
    "        devAB = (np.std(compModel[i])**2 + np.std(compModel[j])**2)**(1/2)\n",
    "        print(\"%0.f vs %0.f was %s\" %(i+1, j+1, abs(compModel[i].mean()-compModel[j].mean()) > 1.96* devAB / (5**(1/2))))\n"
   ]
  },
  {
   "cell_type": "code",
   "execution_count": null,
   "metadata": {},
   "outputs": [],
   "source": []
  }
 ],
 "metadata": {
  "kernelspec": {
   "display_name": "Python 3",
   "language": "python",
   "name": "python3"
  },
  "language_info": {
   "codemirror_mode": {
    "name": "ipython",
    "version": 3
   },
   "file_extension": ".py",
   "mimetype": "text/x-python",
   "name": "python",
   "nbconvert_exporter": "python",
   "pygments_lexer": "ipython3",
   "version": "3.7.4"
  }
 },
 "nbformat": 4,
 "nbformat_minor": 2
}
